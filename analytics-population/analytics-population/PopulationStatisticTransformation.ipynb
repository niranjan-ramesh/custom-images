{
 "cells": [
  {
   "cell_type": "markdown",
   "id": "56183804",
   "metadata": {},
   "source": [
    "## Example using R in JupyterNootebooks for tranforming Population statistic data files."
   ]
  },
  {
   "cell_type": "markdown",
   "id": "cdb111b3",
   "metadata": {},
   "source": [
    "For analyse population statisctic uses three sources: Indian Registration System (ITK), Statisctic Canada, Inuit Tapirrit Kanatami (ITK).\n",
    "For showing an example using R language in JupyterNotebooks we took one source file (ITK) and transformated it for one result CTBRS table\n",
    "### Step 1. Importing necessary modules\n",
    "  \n",
    "Take native R libraries: readxl, writexl"
   ]
  },
  {
   "cell_type": "code",
   "execution_count": 11,
   "id": "e52ddc32",
   "metadata": {
    "vscode": {
     "languageId": "r"
    }
   },
   "outputs": [],
   "source": [
    "library(readxl)\n",
    "library(writexl)"
   ]
  },
  {
   "cell_type": "markdown",
   "id": "366bac10",
   "metadata": {},
   "source": [
    "### Step 2. Load data from file"
   ]
  },
  {
   "cell_type": "code",
   "execution_count": null,
   "id": "742f7395",
   "metadata": {
    "vscode": {
     "languageId": "r"
    }
   },
   "outputs": [],
   "source": [
    "file_path_incoming_data <- \"data/INACData.xlsx\"\n",
    "file_path_outgoing_data <- \"data/CTBRSResults.xlsx\"\n",
    "\n",
    "full_data <- as.data.frame(\n",
    "  read_excel(\n",
    "    file_path_incoming_data, sheet = 2, range = \"A6:K195\", col_names = FALSE\n",
    "  )\n",
    ")"
   ]
  },
  {
   "cell_type": "markdown",
   "id": "c8cfe207",
   "metadata": {},
   "source": [
    "### Step 3. Define default data lines count which belong to a region and define a function of transforming loaded data into a vector"
   ]
  },
  {
   "cell_type": "code",
   "execution_count": 13,
   "id": "dc6d08be",
   "metadata": {
    "vscode": {
     "languageId": "r"
    }
   },
   "outputs": [],
   "source": [
    "count_values <- 19\n",
    "\n",
    "get_data <- function(income_data, vector_number, count_lines = NULL) {\n",
    "  data_set <- c()\n",
    "\n",
    "  for (i in seq_along(income_data[[vector_number]])) {\n",
    "    value <- income_data[[vector_number]][i]\n",
    "\n",
    "    if (is.na(value)) {\n",
    "      next\n",
    "    }\n",
    "\n",
    "    data_set <- c(data_set, value)\n",
    "\n",
    "    if (!is.null(count_lines) && i == count_lines) {\n",
    "      return(data_set)\n",
    "    }\n",
    "  }\n",
    "\n",
    "  return(data_set)\n",
    "}"
   ]
  },
  {
   "cell_type": "markdown",
   "id": "af1289da",
   "metadata": {},
   "source": [
    "### Step 4. Creating data vectors (columns)"
   ]
  },
  {
   "cell_type": "code",
   "execution_count": 14,
   "id": "0629aa68",
   "metadata": {
    "vscode": {
     "languageId": "r"
    }
   },
   "outputs": [],
   "source": [
    "#Creating data vectors (columns)\n",
    "regions <- get_data(full_data, 1)\n",
    "ages <- get_data(full_data, 2, count_values)\n",
    "total_count <- get_data(full_data, 3)\n",
    "male_count <- get_data(full_data, 4)\n",
    "female_count <- get_data(full_data, 5)"
   ]
  },
  {
   "cell_type": "markdown",
   "id": "9ac94b35",
   "metadata": {},
   "source": [
    "### Step 5. Preparing data object in current table format incoming data"
   ]
  },
  {
   "cell_type": "code",
   "execution_count": 15,
   "id": "7c306ad1",
   "metadata": {
    "vscode": {
     "languageId": "r"
    }
   },
   "outputs": [],
   "source": [
    "structured_data <- list()\n",
    "index <- 1\n",
    "\n",
    "for (region in regions) {\n",
    "  for (age in ages) {\n",
    "    list <- list()\n",
    "    list[[age]] <- c(\n",
    "      total_count[index],\n",
    "      male_count[index],\n",
    "      female_count[index]\n",
    "    )\n",
    "    structured_data[[ region ]] <- c(structured_data[[ region ]], list)\n",
    "    index <- index + 1\n",
    "  }\n",
    "}"
   ]
  },
  {
   "cell_type": "markdown",
   "id": "237b2f32",
   "metadata": {},
   "source": [
    "### Step 6. Processing data. As an example we make a one result table in a different format data"
   ]
  },
  {
   "cell_type": "code",
   "execution_count": 16,
   "id": "2b2feece",
   "metadata": {
    "vscode": {
     "languageId": "r"
    }
   },
   "outputs": [],
   "source": [
    "ages_column <- c()\n",
    "\n",
    "for (name_region in names(structured_data)) {\n",
    "  for (data_region in  structured_data[name_region]) {\n",
    "    for (name_age in  names(data_region)) {\n",
    "      ages_column <- c(ages_column, name_age)\n",
    "    }\n",
    "\n",
    "    break\n",
    "  }\n",
    "\n",
    "  break\n",
    "}\n",
    "\n",
    "region_column <- list()\n",
    "\n",
    "for (name_region in names(structured_data)) {\n",
    "  amount_column <- c()\n",
    "\n",
    "  for (data_region in  structured_data[name_region]) {\n",
    "    for (name_age in  names(data_region)) {\n",
    "      for (data_age in  data_region[name_age]) {\n",
    "        amount_column <- c(amount_column, data_age[1])\n",
    "      }\n",
    "    }\n",
    "  }\n",
    "\n",
    "  region_column[[name_region]] <- amount_column\n",
    "}"
   ]
  },
  {
   "cell_type": "markdown",
   "id": "bbcf5537",
   "metadata": {},
   "source": [
    "### Step 7. Save data to the result file"
   ]
  },
  {
   "cell_type": "code",
   "execution_count": 17,
   "id": "917d2047",
   "metadata": {
    "vscode": {
     "languageId": "r"
    }
   },
   "outputs": [],
   "source": [
    "data_frame_out <- data.frame(\n",
    "  `Age group` = c(ages_column)\n",
    ")\n",
    "\n",
    "for (region in names(region_column)) {\n",
    "  data_frame_out <- cbind(data_frame_out, amount = region_column[region])\n",
    "  names(data_frame_out)[names(data_frame_out) == \"amount\"] <- region\n",
    "}\n",
    "\n",
    "write_xlsx(data_frame_out, file_path_outgoing_data)"
   ]
  }
 ],
 "metadata": {
  "kernelspec": {
   "display_name": "R",
   "language": "R",
   "name": "ir"
  },
  "language_info": {
   "codemirror_mode": "r",
   "file_extension": ".r",
   "mimetype": "text/x-r-source",
   "name": "R",
   "pygments_lexer": "r",
   "version": "4.3.1"
  }
 },
 "nbformat": 4,
 "nbformat_minor": 5
}
