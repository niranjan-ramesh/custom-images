{
 "cells": [
  {
   "cell_type": "markdown",
   "metadata": {},
   "source": [
    "### TB Data Processing\n",
    "\n",
    "Divide into bins and count by Age group"
   ]
  },
  {
   "cell_type": "code",
   "execution_count": 10,
   "metadata": {
    "vscode": {
     "languageId": "r"
    }
   },
   "outputs": [
    {
     "name": "stdout",
     "output_type": "stream",
     "text": [
      "              Age.group ActiveCasesCount\n",
      "1      1 to 4 years old                0\n",
      "2    15 to 24 years old              129\n",
      "3    25 to 34 years old              173\n",
      "4    35 to 44 years old              151\n",
      "5    45 to 54 years old              137\n",
      "6     5 to 14 years old                0\n",
      "7    55 to 64 years old              156\n",
      "8    65 to 74 years old              143\n",
      "9    75 years and older              111\n",
      "10 Less than 1 year old                0\n"
     ]
    }
   ],
   "source": [
    "library(openxlsx)\n",
    "df <- read.xlsx(\"tests/bcdata.xlsx\", startRow = 1)\n",
    "breaks <- c(0, 1, 4, 14, 24, 34, 44, 54, 64, 74, Inf) \n",
    "labels <- c('Less than 1 year old', '1 to 4 years old', '5 to 14 years old', '15 to 24 years old', '25 to 34 years old', '35 to 44 years old', '45 to 54 years old', '55 to 64 years old', '65 to 74 years old', '75 years and older')\n",
    "df$AgeGroup <- cut(df$Age, breaks = breaks, labels = labels, right = FALSE, include.lowest = TRUE)\n",
    "age_counts <- table(df$AgeGroup)\n",
    "age_counts <- age_counts[order(names(age_counts))]\n",
    "case_counts <- as.data.frame(age_counts)\n",
    "colnames(case_counts) <- c(\"Age.group\", \"ActiveCasesCount\")\n",
    "print(case_counts)"
   ]
  },
  {
   "cell_type": "markdown",
   "metadata": {},
   "source": [
    "Using demographics data for rate of active cases per age group"
   ]
  },
  {
   "cell_type": "code",
   "execution_count": 11,
   "metadata": {
    "vscode": {
     "languageId": "r"
    }
   },
   "outputs": [
    {
     "name": "stdout",
     "output_type": "stream",
     "text": [
      "              Age.group ActiveCasesCount     Population.group\n",
      "1      1 to 4 years old                0 1 - Total Population\n",
      "2    15 to 24 years old              129 1 - Total Population\n",
      "3    25 to 34 years old              173 1 - Total Population\n",
      "4    35 to 44 years old              151 1 - Total Population\n",
      "5    45 to 54 years old              137 1 - Total Population\n",
      "6     5 to 14 years old                0 1 - Total Population\n",
      "7    55 to 64 years old              156 1 - Total Population\n",
      "8    65 to 74 years old              143 1 - Total Population\n",
      "9    75 years and older              111 1 - Total Population\n",
      "10 Less than 1 year old                0 1 - Total Population\n",
      "11             All ages               NA 1 - Total Population\n",
      "   Place.of.residence            Sex        Date Population IncidenceRate\n",
      "1          1 - Canada 1 - Both sexes July 1 2021      82741   0.000000000\n",
      "2          1 - Canada 1 - Both sexes July 1 2021       1252   0.103035144\n",
      "3          1 - Canada 1 - Both sexes July 1 2021      12545   0.013790355\n",
      "4          1 - Canada 1 - Both sexes July 1 2021      34514   0.004375036\n",
      "5          1 - Canada 1 - Both sexes July 1 2021       8257   0.016591983\n",
      "6          1 - Canada 1 - Both sexes July 1 2021      24283   0.000000000\n",
      "7          1 - Canada 1 - Both sexes July 1 2021        306   0.509803922\n",
      "8          1 - Canada 1 - Both sexes July 1 2021       5941   0.024070022\n",
      "9          1 - Canada 1 - Both sexes July 1 2021       1635   0.067889908\n",
      "10         1 - Canada 1 - Both sexes July 1 2021       8359   0.000000000\n",
      "11         1 - Canada 1 - Both sexes July 1 2021     179833            NA\n"
     ]
    }
   ],
   "source": [
    "total_counts = read.xlsx(\"tests/demographics_data.xlsx\", startRow=1)\n",
    "total_counts$Age.group <- sub(\"^\\\\d+ - \", \"\", total_counts$Age.group)\n",
    "\n",
    "merged_data <- merge(case_counts, total_counts, by = \"Age.group\", all.x = TRUE, all.y = TRUE)\n",
    "\n",
    "merged_data$IncidenceRate <- merged_data$ActiveCasesCount / merged_data$Population\n",
    "\n",
    "print(merged_data)"
   ]
  },
  {
   "cell_type": "markdown",
   "metadata": {},
   "source": [
    "Cross tabulate across gender and year of survey"
   ]
  },
  {
   "cell_type": "code",
   "execution_count": 12,
   "metadata": {
    "vscode": {
     "languageId": "r"
    }
   },
   "outputs": [
    {
     "name": "stdout",
     "output_type": "stream",
     "text": [
      "      Survey_Year\n",
      "Gender 2013 2014 2015 2016 2017 2018 2019 2020 2021 2022 2023\n",
      "     F   32   34   28   28   29   18   26   30   31   21   35\n",
      "     M   23   24   34   39   34   26   26   39   24   24   41\n"
     ]
    }
   ],
   "source": [
    "crosstab <- xtabs( ~ Gender + Survey_Year, data = df)\n",
    "print(crosstab)"
   ]
  }
 ],
 "metadata": {
  "kernelspec": {
   "display_name": "R",
   "language": "R",
   "name": "ir"
  },
  "language_info": {
   "codemirror_mode": "r",
   "file_extension": ".r",
   "mimetype": "text/x-r-source",
   "name": "R",
   "pygments_lexer": "r",
   "version": "4.2.1"
  },
  "orig_nbformat": 4
 },
 "nbformat": 4,
 "nbformat_minor": 2
}
