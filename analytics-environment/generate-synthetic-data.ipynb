{
 "cells": [
  {
   "cell_type": "code",
   "execution_count": null,
   "id": "02068d7b-6ded-4989-a569-af868e27c1ee",
   "metadata": {},
   "outputs": [],
   "source": [
    "from mimesis import Field, Fieldset, Schema\n",
    "from mimesis import Generic\n",
    "from mimesis import Address\n",
    "from mimesis import Datetime\n",
    "from mimesis import Numeric\n",
    "from mimesis.locales import Locale\n",
    "\n",
    "import pandas as pd\n",
    "\n",
    "import urllib, json\n",
    "from pathlib import Path\n",
    "\n",
    "from constants import DATA_PROVIDERS\n",
    "from constants import ALPHANUMERIC\n"
   ]
  },
  {
   "cell_type": "code",
   "execution_count": null,
   "id": "5fc20b49-aecf-4caa-b26a-9f1b4f3f52ce",
   "metadata": {},
   "outputs": [],
   "source": [
    "SCHEMA_URL=\"https://raw.githubusercontent.com/PHACDataHub/tb-safe-inputs/tb-upload/ui/src/schema/test.json\"\n",
    "DATA_DIR=Path(\".\", \"data\", \"parquet_test\")"
   ]
  },
  {
   "cell_type": "code",
   "execution_count": null,
   "id": "43dd185e-d392-4e17-82ef-af8cfb3b182b",
   "metadata": {},
   "outputs": [],
   "source": [
    "resp = urllib.request.urlopen(SCHEMA_URL)\n",
    "schema_data = json.loads(resp.read())"
   ]
  },
  {
   "cell_type": "code",
   "execution_count": null,
   "id": "8c2cf3ec-9479-4828-ac5e-1812acd9f9bd",
   "metadata": {},
   "outputs": [],
   "source": [
    "field = Field(locale=Locale.EN_CA)\n",
    "fieldset = Fieldset(locale=Locale.EN_CA)\n",
    "generic = Generic(locale=Locale.EN_CA)\n",
    "address = Address(locale=Locale.EN_CA)\n",
    "dt = Datetime(locale=Locale.EN_CA)\n",
    "numeric = Numeric()\n",
    "\n",
    "schema = Schema(\n",
    "    schema=lambda: {\n",
    "        'YearReceived': dt.year(minimum=2022, maximum=2023),\n",
    "        'MonthReceived': dt.month(),\n",
    "        'DataProvider': generic.choice(DATA_PROVIDERS),\n",
    "        'RegisterCaseNumber': field(\"increment\"),\n",
    "        'Gender': generic.choice(schema_data['properties']['Gender']['enum']),\n",
    "        'PostalCode': address.postal_code(),\n",
    "        'DiagnosisDate': dt.date(start=2000, end=2023),\n",
    "        'ICDOption': generic.choice(schema_data['properties']['ICDOption']['enum']),\n",
    "        'ICD9': generic.choice(['010', '011', '012', '013', '014', '015']),\n",
    "        'ICD10': generic.choice(['A15', 'A16', 'A17']),\n",
    "        'ChestXRay': generic.choice(schema_data['properties']['ChestXRay']['enum']),\n",
    "        'IfAbnormal': generic.choice(schema_data['properties']['IfAbnormal']['enum']),\n",
    "        'CaseCriteria': generic.choice(schema_data['properties']['CaseCriteria']['enum']),\n",
    "        'Initial_Resistance': generic.choice(schema_data['properties']['Initial_Resistance']['enum']),\n",
    "        'GenotypingResults': generic.choice(schema_data['properties']['GenotypingResults']['enum']),\n",
    "        'GenotypingResults': generic.choice(schema_data['properties']['GenotypingResults']['enum']),\n",
    "        'GenotypingSpoligotyping': numeric.integer_number(start=1, end=10**15),\n",
    "        'MIRU': generic.choice(ALPHANUMERIC, length=24),\n",
    "        'PreviousTreatmentCompleted': generic.choice(schema_data['properties']['PreviousTreatmentCompleted']['enum']),\n",
    "        'HIVStatus': generic.choice(schema_data['properties']['HIVStatus']['enum']),\n",
    "        'Date_Of_HIV_Test': dt.datetime(start=2019, end=2023),\n",
    "        'TravelTBCountry': generic.choice(schema_data['properties']['TravelTBCountry']['enum']),\n",
    "        'HowLong': generic.choice([1,2,3,4,5,6,7,8,9,10,15,20,50,100, None]),\n",
    "        'patientDiedBeforeDuring': generic.choice(schema_data['properties']['patientDiedBeforeDuring']['enum']),\n",
    "        'DidPatientDie': generic.choice(schema_data['properties']['DidPatientDie']['enum']),\n",
    "        'DateOfDeath': dt.datetime(start=2019, end=2023),\n",
    "        'CauseOfDeath': generic.choice(schema_data['properties']['CauseOfDeath']['enum']),\n",
    "        'FirstEpisodeOfTB': generic.choice(schema_data['properties']['FirstEpisodeOfTB']['enum']),\n",
    "        'PreviousDiagnosisYear': dt.year(minimum=2010, maximum=2022),\n",
    "    },\n",
    "    iterations=1000,\n",
    ")"
   ]
  },
  {
   "cell_type": "code",
   "execution_count": null,
   "id": "b846713b",
   "metadata": {},
   "outputs": [],
   "source": [
    "df = pd.DataFrame(schema.create())\n",
    "df"
   ]
  },
  {
   "cell_type": "code",
   "execution_count": null,
   "id": "598ba0a0",
   "metadata": {},
   "outputs": [],
   "source": [
    "df.to_parquet(Path(DATA_DIR), partition_cols=['YearReceived', 'DataProvider'])"
   ]
  },
  {
   "cell_type": "code",
   "execution_count": null,
   "id": "aff230f2",
   "metadata": {},
   "outputs": [],
   "source": []
  }
 ],
 "metadata": {
  "environment": {
   "kernel": "conda-root-py",
   "name": "workbench-notebooks.m111",
   "type": "gcloud",
   "uri": "gcr.io/deeplearning-platform-release/workbench-notebooks:m111"
  },
  "kernelspec": {
   "display_name": "base",
   "language": "python",
   "name": "python3"
  },
  "language_info": {
   "codemirror_mode": {
    "name": "ipython",
    "version": 3
   },
   "file_extension": ".py",
   "mimetype": "text/x-python",
   "name": "python",
   "nbconvert_exporter": "python",
   "pygments_lexer": "ipython3",
   "version": "3.9.12"
  }
 },
 "nbformat": 4,
 "nbformat_minor": 5
}
