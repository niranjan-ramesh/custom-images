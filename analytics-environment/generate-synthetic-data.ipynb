{
 "cells": [
  {
   "cell_type": "code",
   "execution_count": null,
   "id": "02068d7b-6ded-4989-a569-af868e27c1ee",
   "metadata": {},
   "outputs": [],
   "source": [
    "from mimesis import Field, Fieldset, Schema\n",
    "from mimesis import Generic\n",
    "from mimesis import Address\n",
    "from mimesis import Datetime\n",
    "from mimesis import Numeric\n",
    "from mimesis.enums import Gender, TimestampFormat\n",
    "from mimesis.locales import Locale\n",
    "\n",
    "import urllib, json\n",
    "\n",
    "from constants import DATA_PROVIDERS\n",
    "from constants import ALPHANUMERIC\n"
   ]
  },
  {
   "cell_type": "code",
   "execution_count": null,
   "id": "5fc20b49-aecf-4caa-b26a-9f1b4f3f52ce",
   "metadata": {},
   "outputs": [],
   "source": [
    "SCHEMA_URL=\"https://raw.githubusercontent.com/PHACDataHub/tb-safe-inputs/tb-upload/ui/src/schema/test.json\""
   ]
  },
  {
   "cell_type": "code",
   "execution_count": null,
   "id": "43dd185e-d392-4e17-82ef-af8cfb3b182b",
   "metadata": {},
   "outputs": [],
   "source": [
    "resp = urllib.request.urlopen(SCHEMA_PATH)\n",
    "schema_data = json.loads(resp.read())"
   ]
  },
  {
   "cell_type": "code",
   "execution_count": null,
   "id": "8c2cf3ec-9479-4828-ac5e-1812acd9f9bd",
   "metadata": {},
   "outputs": [],
   "source": [
    "field = Field(locale=Locale.EN_CA)\n",
    "fieldset = Fieldset(locale=Locale.EN_CA)\n",
    "generic = Generic(locale=Locale.EN_CA)\n",
    "address = Address(locale=Locale.EN_CA)\n",
    "dt = Datetime(locale=Locale.EN_CA)\n",
    "numeric = Numeric()\n",
    "\n",
    "schema = Schema(\n",
    "    schema=lambda: {\n",
    "        'DateReceived': dt.datetime(start=2022, end=2023),\n",
    "        'DataProvider': generic.choice(DATA_PROVIDERS),\n",
    "        'RegisterCaseNumber': field(\"increment\"),\n",
    "        'Gender': generic.choice(schema_data['properties']['Gender']['enum']),\n",
    "        'PostalCode': address.postal_code(),\n",
    "        'DiagnosisDate': dt.date(start=2000, end=2023),\n",
    "        'ICDOption': generic.choice(schema_data['properties']['ICDOption']['enum']),\n",
    "        'ICD9': generic.choice(['010', '011', '012', '013', '014', '015']),\n",
    "        'ICD10': generic.choice(['A15', 'A16', 'A17']),\n",
    "        'ChestXRay': generic.choice(schema_data['properties']['ChestXRay']['enum']),\n",
    "        'IfAbnormal': generic.choice(schema_data['properties']['IfAbnormal']['enum']),\n",
    "        'CaseCriteria': generic.choice(schema_data['properties']['CaseCriteria']['enum']),\n",
    "        'Initial_Resistance': generic.choice(schema_data['properties']['Initial_Resistance']['enum']),\n",
    "        'GenotypingResults': generic.choice(schema_data['properties']['GenotypingResults']['enum']),\n",
    "        'GenotypingResults': generic.choice(schema_data['properties']['GenotypingResults']['enum']),\n",
    "        'GenotypingSpoligotyping': numeric.integer_number(start=1, end=10**15),\n",
    "        'MIRU': \n",
    "    },\n",
    "    iterations=2,\n",
    ")\n",
    "schema.create()"
   ]
  },
  {
   "cell_type": "code",
   "execution_count": null,
   "id": "a5d8fd33-cea7-4276-a355-673c60ff2566",
   "metadata": {},
   "outputs": [],
   "source": [
    "Address(\"Canada\").postal_code()"
   ]
  },
  {
   "cell_type": "code",
   "execution_count": null,
   "id": "9e3c7779-7396-40aa-84cd-1bcade0a9ec3",
   "metadata": {},
   "outputs": [],
   "source": [
    "dir(Locale)"
   ]
  },
  {
   "cell_type": "code",
   "execution_count": null,
   "id": "eb118e84-19fb-4f43-bd34-ba083ea455a1",
   "metadata": {},
   "outputs": [],
   "source": []
  },
  {
   "cell_type": "code",
   "execution_count": null,
   "id": "a203b4ab-0f59-4f0f-9ada-8499b72d60d3",
   "metadata": {},
   "outputs": [],
   "source": []
  },
  {
   "cell_type": "code",
   "execution_count": null,
   "id": "2b83600f-8a84-4d30-bd45-17a308ed1db1",
   "metadata": {},
   "outputs": [],
   "source": []
  }
 ],
 "metadata": {
  "environment": {
   "kernel": "conda-root-py",
   "name": "workbench-notebooks.m111",
   "type": "gcloud",
   "uri": "gcr.io/deeplearning-platform-release/workbench-notebooks:m111"
  },
  "kernelspec": {
   "display_name": "Python 3",
   "language": "python",
   "name": "conda-root-py"
  },
  "language_info": {
   "codemirror_mode": {
    "name": "ipython",
    "version": 3
   },
   "file_extension": ".py",
   "mimetype": "text/x-python",
   "name": "python",
   "nbconvert_exporter": "python",
   "pygments_lexer": "ipython3",
   "version": "3.10.12"
  }
 },
 "nbformat": 4,
 "nbformat_minor": 5
}
